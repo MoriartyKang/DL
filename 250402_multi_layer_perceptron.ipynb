{
  "nbformat": 4,
  "nbformat_minor": 0,
  "metadata": {
    "colab": {
      "provenance": [],
      "include_colab_link": true
    },
    "kernelspec": {
      "name": "python3",
      "display_name": "Python 3"
    },
    "language_info": {
      "name": "python"
    }
  },
  "cells": [
    {
      "cell_type": "markdown",
      "metadata": {
        "id": "view-in-github",
        "colab_type": "text"
      },
      "source": [
        "<a href=\"https://colab.research.google.com/github/MoriartyKang/DL/blob/main/250402_multi_layer_perceptron.ipynb\" target=\"_parent\"><img src=\"https://colab.research.google.com/assets/colab-badge.svg\" alt=\"Open In Colab\"/></a>"
      ]
    },
    {
      "cell_type": "markdown",
      "source": [
        "# Numpy 기초 실습"
      ],
      "metadata": {
        "id": "KCKM3Y7FIbht"
      }
    },
    {
      "cell_type": "markdown",
      "source": [
        "## List to Numpy Array"
      ],
      "metadata": {
        "id": "BZM4raj2OsUj"
      }
    },
    {
      "cell_type": "code",
      "execution_count": 29,
      "metadata": {
        "id": "g1koiUYhICMu"
      },
      "outputs": [],
      "source": [
        "import numpy as np"
      ]
    },
    {
      "cell_type": "code",
      "source": [
        "test = np.array([[1,2,3], [4,5,6]])\n",
        "test"
      ],
      "metadata": {
        "id": "l3oAg5vFIeFx",
        "colab": {
          "base_uri": "https://localhost:8080/"
        },
        "outputId": "1f4d8584-b215-48ae-f3e4-7390e3448242"
      },
      "execution_count": 30,
      "outputs": [
        {
          "output_type": "execute_result",
          "data": {
            "text/plain": [
              "array([[1, 2, 3],\n",
              "       [4, 5, 6]])"
            ]
          },
          "metadata": {},
          "execution_count": 30
        }
      ]
    },
    {
      "cell_type": "markdown",
      "source": [
        "### 문제1 : 아래 list 3개를 각각 행으로 갖는 배열을 생성하는 코드를 완성하고 배열의 크기를 print 하세요"
      ],
      "metadata": {
        "id": "3NI3EK4eS3w0"
      }
    },
    {
      "cell_type": "code",
      "source": [
        "list1 = [1,2,3,4]\n",
        "list2 = [5,6,7,8]\n",
        "list3 = [9,10,11,12]\n",
        "\n",
        "# arr = ?\n",
        "arr = np.array([list1, list2, list3])\n",
        "\n",
        "print(arr)\n",
        "print(arr.shape)"
      ],
      "metadata": {
        "colab": {
          "base_uri": "https://localhost:8080/"
        },
        "id": "llyjyRFlO07T",
        "outputId": "16491dc8-efb2-420c-da82-8c3264337dda"
      },
      "execution_count": 31,
      "outputs": [
        {
          "output_type": "stream",
          "name": "stdout",
          "text": [
            "[[ 1  2  3  4]\n",
            " [ 5  6  7  8]\n",
            " [ 9 10 11 12]]\n",
            "(3, 4)\n"
          ]
        }
      ]
    },
    {
      "cell_type": "markdown",
      "source": [
        "## Reshape"
      ],
      "metadata": {
        "id": "_42lJZZqQ8Iq"
      }
    },
    {
      "cell_type": "code",
      "source": [
        "# 배열의 행,열을 바꿀때\n",
        "arr16 = np.array(list(range(16))).reshape((4,4))\n",
        "arr16"
      ],
      "metadata": {
        "colab": {
          "base_uri": "https://localhost:8080/"
        },
        "id": "7txsOkorOwSa",
        "outputId": "b98a41b6-881c-4ff6-e316-75ca712cc103"
      },
      "execution_count": 32,
      "outputs": [
        {
          "output_type": "execute_result",
          "data": {
            "text/plain": [
              "array([[ 0,  1,  2,  3],\n",
              "       [ 4,  5,  6,  7],\n",
              "       [ 8,  9, 10, 11],\n",
              "       [12, 13, 14, 15]])"
            ]
          },
          "metadata": {},
          "execution_count": 32
        }
      ]
    },
    {
      "cell_type": "markdown",
      "source": [
        "### 문제2 : 0부터 15까지의 숫자를 원소로 갖는 배열을 아래의 형태로 만드는 코드를 작성해보세요"
      ],
      "metadata": {
        "id": "DAUCn6vtS9Zw"
      }
    },
    {
      "cell_type": "code",
      "source": [
        "# [[ 0,  1],\n",
        "# [ 2,  3],\n",
        "# [ 4,  5],\n",
        "# [ 6,  7],\n",
        "# [ 8,  9],\n",
        "# [10, 11],\n",
        "# [12, 13],\n",
        "# [14, 15]]\n",
        "arr16 = np.arange(16)\n",
        "arr16_reshaped = arr16.reshape(8, 2)\n",
        "\n",
        "# arr16_reshaped = ?\n",
        "arr16_reshaped"
      ],
      "metadata": {
        "colab": {
          "base_uri": "https://localhost:8080/"
        },
        "id": "Nb3XPc0EQcyP",
        "outputId": "1606d124-61bb-4f81-92dd-ef82d81bdb35"
      },
      "execution_count": 33,
      "outputs": [
        {
          "output_type": "execute_result",
          "data": {
            "text/plain": [
              "array([[ 0,  1],\n",
              "       [ 2,  3],\n",
              "       [ 4,  5],\n",
              "       [ 6,  7],\n",
              "       [ 8,  9],\n",
              "       [10, 11],\n",
              "       [12, 13],\n",
              "       [14, 15]])"
            ]
          },
          "metadata": {},
          "execution_count": 33
        }
      ]
    },
    {
      "cell_type": "markdown",
      "source": [
        "## 0 or 1 값 채우기"
      ],
      "metadata": {
        "id": "saqa0r5HRC0p"
      }
    },
    {
      "cell_type": "code",
      "source": [
        "# 배열을 전체 1으로 채울때\n",
        "filled_one = np.ones(16)\n",
        "filled_one"
      ],
      "metadata": {
        "colab": {
          "base_uri": "https://localhost:8080/"
        },
        "id": "zi8SkccPRKEm",
        "outputId": "3f44b00b-87bf-4ff9-8ef9-5dc042bb36e4"
      },
      "execution_count": 34,
      "outputs": [
        {
          "output_type": "execute_result",
          "data": {
            "text/plain": [
              "array([1., 1., 1., 1., 1., 1., 1., 1., 1., 1., 1., 1., 1., 1., 1., 1.])"
            ]
          },
          "metadata": {},
          "execution_count": 34
        }
      ]
    },
    {
      "cell_type": "code",
      "source": [
        "# 배열을 전체 0으로 채울때\n",
        "filled_zero = np.zeros((2,5))\n",
        "filled_zero"
      ],
      "metadata": {
        "colab": {
          "base_uri": "https://localhost:8080/"
        },
        "id": "695GN0E_RL5G",
        "outputId": "79db1ce9-d49f-435c-edfb-0f734c0ecf3c"
      },
      "execution_count": 35,
      "outputs": [
        {
          "output_type": "execute_result",
          "data": {
            "text/plain": [
              "array([[0., 0., 0., 0., 0.],\n",
              "       [0., 0., 0., 0., 0.]])"
            ]
          },
          "metadata": {},
          "execution_count": 35
        }
      ]
    },
    {
      "cell_type": "code",
      "source": [
        "# _like는 shpe의 기능\n",
        "filled_like_arr16 = np.ones_like(arr16)\n",
        "filled_like_arr16"
      ],
      "metadata": {
        "colab": {
          "base_uri": "https://localhost:8080/"
        },
        "id": "5hoOf65CRHD-",
        "outputId": "5762cc7b-00bd-4590-d70a-c8eb0c31e954"
      },
      "execution_count": 36,
      "outputs": [
        {
          "output_type": "execute_result",
          "data": {
            "text/plain": [
              "array([1, 1, 1, 1, 1, 1, 1, 1, 1, 1, 1, 1, 1, 1, 1, 1])"
            ]
          },
          "metadata": {},
          "execution_count": 36
        }
      ]
    },
    {
      "cell_type": "markdown",
      "source": [
        "### 문제 3 : 아래 형태를 갖는 배열을 만드는 코드를 작성해보세요\n",
        "- ones, zeros, reshape 사용\n",
        "- 성공했으면 concatenate의 axis를 0으로 바꿔보고 어떤 동작을 하는지 적어보세요"
      ],
      "metadata": {
        "id": "FbJ_pfUrTDtR"
      }
    },
    {
      "cell_type": "code",
      "source": [
        "# arr_with_one 배열 참고\n",
        "# [[1., 1.],\n",
        "# [1., 1.],\n",
        "# [1., 1.],\n",
        "# [1., 1.]]\n",
        "arr_with_one = np.ones((4, 2))\n",
        "\n",
        "# arr_with_zero 배열 참고\n",
        "# [[0., 0.],\n",
        "# [0., 0.],\n",
        "# [0., 0.],\n",
        "# [0., 0.]]\n",
        "arr_with_zero = np.zeros((4, 2))\n",
        "\n",
        "# arr_with_one_zero 배열 참고\n",
        "# [[1., 1., 0., 0.],\n",
        "# [1., 1., 0., 0.],\n",
        "# [1., 1., 0., 0.],\n",
        "# [1., 1., 0., 0.]]\n",
        "\n",
        "# arr_with_one = ?\n",
        "# arr_with_zero = ?\n",
        "arr_with_one_zero = np.concatenate((arr_with_one, arr_with_zero), axis=0) # 수평으로 배열 합치기\n",
        "arr_with_one_zero\n",
        "\n",
        "print(\"arr_with_one_zero:\\n\",arr_with_one_zero)\n",
        "\n",
        "arr_with_one_zero = np.concatenate((arr_with_one, arr_with_zero), axis=1) # 수평으로 배열 합치기\n",
        "arr_with_one_zero\n",
        "\n",
        "print(\"arr_with_one_zero:\\n\",arr_with_one_zero)"
      ],
      "metadata": {
        "colab": {
          "base_uri": "https://localhost:8080/"
        },
        "id": "cgChTODOS1LU",
        "outputId": "aac2aaf3-5bb3-45e6-b3d2-eba9bf3453c8"
      },
      "execution_count": 37,
      "outputs": [
        {
          "output_type": "stream",
          "name": "stdout",
          "text": [
            "arr_with_one_zero:\n",
            " [[1. 1.]\n",
            " [1. 1.]\n",
            " [1. 1.]\n",
            " [1. 1.]\n",
            " [0. 0.]\n",
            " [0. 0.]\n",
            " [0. 0.]\n",
            " [0. 0.]]\n",
            "arr_with_one_zero:\n",
            " [[1. 1. 0. 0.]\n",
            " [1. 1. 0. 0.]\n",
            " [1. 1. 0. 0.]\n",
            " [1. 1. 0. 0.]]\n"
          ]
        }
      ]
    },
    {
      "cell_type": "markdown",
      "source": [
        "## Broadcasting"
      ],
      "metadata": {
        "id": "SjUfnuZsU7qo"
      }
    },
    {
      "cell_type": "code",
      "source": [
        "# 다중 for문을 이용한 것이 아닌 Broadcasting으로 원소의 값 변경\n",
        "bc = np.ones(25).reshape((5,5))\n",
        "bc = bc * 5 - 1\n",
        "bc"
      ],
      "metadata": {
        "colab": {
          "base_uri": "https://localhost:8080/"
        },
        "id": "0fevWabMU4ow",
        "outputId": "7c3e9ba2-dd01-4c27-a145-5458bc7f0c18"
      },
      "execution_count": 38,
      "outputs": [
        {
          "output_type": "execute_result",
          "data": {
            "text/plain": [
              "array([[4., 4., 4., 4., 4.],\n",
              "       [4., 4., 4., 4., 4.],\n",
              "       [4., 4., 4., 4., 4.],\n",
              "       [4., 4., 4., 4., 4.],\n",
              "       [4., 4., 4., 4., 4.]])"
            ]
          },
          "metadata": {},
          "execution_count": 38
        }
      ]
    },
    {
      "cell_type": "code",
      "source": [
        "bc2 = bc * 0 + 3\n",
        "bc + bc2"
      ],
      "metadata": {
        "colab": {
          "base_uri": "https://localhost:8080/"
        },
        "id": "d_-NYyHiVV2k",
        "outputId": "d4d4266a-4ebf-48b2-fc70-ad364384183d"
      },
      "execution_count": 39,
      "outputs": [
        {
          "output_type": "execute_result",
          "data": {
            "text/plain": [
              "array([[7., 7., 7., 7., 7.],\n",
              "       [7., 7., 7., 7., 7.],\n",
              "       [7., 7., 7., 7., 7.],\n",
              "       [7., 7., 7., 7., 7.],\n",
              "       [7., 7., 7., 7., 7.]])"
            ]
          },
          "metadata": {},
          "execution_count": 39
        }
      ]
    },
    {
      "cell_type": "code",
      "source": [
        "# 다차원 계산도 가능\n",
        "one_dim_arr = [5, 5, 5, 5, 5]\n",
        "new_bc = bc + one_dim_arr\n",
        "new_bc"
      ],
      "metadata": {
        "colab": {
          "base_uri": "https://localhost:8080/"
        },
        "id": "WTCCfB42VqM0",
        "outputId": "5f3164b2-ee0f-4ad3-e4d9-47fa676f5a52"
      },
      "execution_count": 40,
      "outputs": [
        {
          "output_type": "execute_result",
          "data": {
            "text/plain": [
              "array([[9., 9., 9., 9., 9.],\n",
              "       [9., 9., 9., 9., 9.],\n",
              "       [9., 9., 9., 9., 9.],\n",
              "       [9., 9., 9., 9., 9.],\n",
              "       [9., 9., 9., 9., 9.]])"
            ]
          },
          "metadata": {},
          "execution_count": 40
        }
      ]
    },
    {
      "cell_type": "markdown",
      "source": [
        "## Slicing"
      ],
      "metadata": {
        "id": "bam-pV95XlMe"
      }
    },
    {
      "cell_type": "code",
      "source": [
        "import numpy as np\n",
        "# Slicing 쉽게 말하면 차원 자르기 [행,열]로 자른다\n",
        "# * [O:O,O:O] 왼족은 시작 인덱스,오른쪽 값의 -1의 인덱스까지\n",
        "print(arr16)"
      ],
      "metadata": {
        "colab": {
          "base_uri": "https://localhost:8080/"
        },
        "id": "kIPoNUNHXoSE",
        "outputId": "859d4cf0-4a30-4d07-ec5e-688591e8bdb4"
      },
      "execution_count": 41,
      "outputs": [
        {
          "output_type": "stream",
          "name": "stdout",
          "text": [
            "[ 0  1  2  3  4  5  6  7  8  9 10 11 12 13 14 15]\n"
          ]
        }
      ]
    },
    {
      "cell_type": "code",
      "source": [
        "arr16 = np.array(list(range(16))).reshape(4, 4)\n",
        "arr16[2]"
      ],
      "metadata": {
        "colab": {
          "base_uri": "https://localhost:8080/"
        },
        "id": "AOAl51ENX4BR",
        "outputId": "8b96c7a5-bd88-4cb4-a40a-d93be12be398"
      },
      "execution_count": 60,
      "outputs": [
        {
          "output_type": "execute_result",
          "data": {
            "text/plain": [
              "array([ 8,  9, 10, 11])"
            ]
          },
          "metadata": {},
          "execution_count": 60
        }
      ]
    },
    {
      "cell_type": "code",
      "source": [
        "arr16[2,:]"
      ],
      "metadata": {
        "colab": {
          "base_uri": "https://localhost:8080/"
        },
        "id": "UtTGQhkFX7eA",
        "outputId": "5d0d0042-5873-4411-b5fa-784e58f8ffc0"
      },
      "execution_count": 67,
      "outputs": [
        {
          "output_type": "execute_result",
          "data": {
            "text/plain": [
              "array([ 8,  9, 10, 11])"
            ]
          },
          "metadata": {},
          "execution_count": 67
        }
      ]
    },
    {
      "cell_type": "code",
      "source": [
        "arr16[:,2]"
      ],
      "metadata": {
        "id": "mhwqHG0WYCOf",
        "colab": {
          "base_uri": "https://localhost:8080/"
        },
        "outputId": "166d1666-977c-40ba-c704-59244fe55edd"
      },
      "execution_count": 63,
      "outputs": [
        {
          "output_type": "execute_result",
          "data": {
            "text/plain": [
              "array([ 2,  6, 10, 14])"
            ]
          },
          "metadata": {},
          "execution_count": 63
        }
      ]
    },
    {
      "cell_type": "code",
      "source": [
        "print(arr16[0:2])\n",
        "print(arr16[0,2])"
      ],
      "metadata": {
        "id": "mQKj_5KJYFou",
        "colab": {
          "base_uri": "https://localhost:8080/"
        },
        "outputId": "f7955a80-08b0-4a54-b044-b2c3cd0ddd05"
      },
      "execution_count": 64,
      "outputs": [
        {
          "output_type": "stream",
          "name": "stdout",
          "text": [
            "[[0 1 2 3]\n",
            " [4 5 6 7]]\n",
            "2\n"
          ]
        }
      ]
    },
    {
      "cell_type": "code",
      "source": [
        "arr16[1:3]"
      ],
      "metadata": {
        "id": "Zm7kGKN6YKZH",
        "colab": {
          "base_uri": "https://localhost:8080/"
        },
        "outputId": "756e2d90-bc61-4cfa-ad61-f4fbbcbebe67"
      },
      "execution_count": 65,
      "outputs": [
        {
          "output_type": "execute_result",
          "data": {
            "text/plain": [
              "array([[ 4,  5,  6,  7],\n",
              "       [ 8,  9, 10, 11]])"
            ]
          },
          "metadata": {},
          "execution_count": 65
        }
      ]
    },
    {
      "cell_type": "code",
      "source": [
        "arr16[arr16[:,0]<5]"
      ],
      "metadata": {
        "id": "qGCo_DOuYX4I",
        "colab": {
          "base_uri": "https://localhost:8080/"
        },
        "outputId": "8f9c75a8-8214-4850-af4f-4b28edf70d19"
      },
      "execution_count": 66,
      "outputs": [
        {
          "output_type": "execute_result",
          "data": {
            "text/plain": [
              "array([[0, 1, 2, 3],\n",
              "       [4, 5, 6, 7]])"
            ]
          },
          "metadata": {},
          "execution_count": 66
        }
      ]
    },
    {
      "cell_type": "markdown",
      "source": [
        "### 문제 4 : 3번째 열에서(index=2) 10보다 크거나 같은 원소가 있는 행 전체를 담는 배열을 생성해보세요"
      ],
      "metadata": {
        "id": "_0E3g_8eY6sR"
      }
    },
    {
      "cell_type": "code",
      "source": [
        "# 결과\n",
        "# [ 8,  9, 10, 11],\n",
        "# [12, 13, 14, 15]]\n",
        "arr16 = np.arange(16).reshape(4, 4)\n",
        "\n",
        "# test_arr = arr16[?]\n",
        "test_arr = arr16[arr16[:,2]>=10]\n",
        "test_arr"
      ],
      "metadata": {
        "id": "3EkzmxahYjEK"
      },
      "execution_count": null,
      "outputs": []
    },
    {
      "cell_type": "markdown",
      "source": [
        "## 평균(mean)"
      ],
      "metadata": {
        "id": "BirMFOCVZPrX"
      }
    },
    {
      "cell_type": "code",
      "source": [
        "target = np.ones((10000,100))\n",
        "target.shape"
      ],
      "metadata": {
        "colab": {
          "base_uri": "https://localhost:8080/"
        },
        "id": "03qrGGPEZOA6",
        "outputId": "d420b955-72d9-4060-d2a8-26761bb0ae63"
      },
      "execution_count": 44,
      "outputs": [
        {
          "output_type": "execute_result",
          "data": {
            "text/plain": [
              "(10000, 100)"
            ]
          },
          "metadata": {},
          "execution_count": 44
        }
      ]
    },
    {
      "cell_type": "code",
      "source": [
        "mean = target.mean(axis=0)\n",
        "print(mean.shape)\n",
        "print(mean)"
      ],
      "metadata": {
        "colab": {
          "base_uri": "https://localhost:8080/"
        },
        "id": "jm7RCGItZn37",
        "outputId": "22e7ac89-b152-423d-ae1e-d0844274f16e"
      },
      "execution_count": 45,
      "outputs": [
        {
          "output_type": "stream",
          "name": "stdout",
          "text": [
            "(100,)\n",
            "[1. 1. 1. 1. 1. 1. 1. 1. 1. 1. 1. 1. 1. 1. 1. 1. 1. 1. 1. 1. 1. 1. 1. 1.\n",
            " 1. 1. 1. 1. 1. 1. 1. 1. 1. 1. 1. 1. 1. 1. 1. 1. 1. 1. 1. 1. 1. 1. 1. 1.\n",
            " 1. 1. 1. 1. 1. 1. 1. 1. 1. 1. 1. 1. 1. 1. 1. 1. 1. 1. 1. 1. 1. 1. 1. 1.\n",
            " 1. 1. 1. 1. 1. 1. 1. 1. 1. 1. 1. 1. 1. 1. 1. 1. 1. 1. 1. 1. 1. 1. 1. 1.\n",
            " 1. 1. 1. 1.]\n"
          ]
        }
      ]
    },
    {
      "cell_type": "code",
      "source": [
        "mean = target.mean(axis=1)\n",
        "print(mean.shape)\n",
        "print(mean)"
      ],
      "metadata": {
        "colab": {
          "base_uri": "https://localhost:8080/"
        },
        "id": "_9fcdeM1ZTue",
        "outputId": "a9249e35-999f-487c-8c81-745873316385"
      },
      "execution_count": 46,
      "outputs": [
        {
          "output_type": "stream",
          "name": "stdout",
          "text": [
            "(10000,)\n",
            "[1. 1. 1. ... 1. 1. 1.]\n"
          ]
        }
      ]
    },
    {
      "cell_type": "markdown",
      "source": [
        "# 코드를 통해서 XOR 문제 해결하기"
      ],
      "metadata": {
        "id": "FxLLamwAISJY"
      }
    },
    {
      "cell_type": "code",
      "source": [
        "# 가중치와 바이어스\n",
        "w11 = np.array([-2, -2])\n",
        "w12 = np.array([2, 2])\n",
        "w2 = np.array([1, 1])\n",
        "\n",
        "# 편향 값\n",
        "b1 = 3\n",
        "b2 = -1\n",
        "b3 = -1"
      ],
      "metadata": {
        "id": "c5AAAbW9IQyY"
      },
      "execution_count": 47,
      "outputs": []
    },
    {
      "cell_type": "code",
      "source": [
        "# 퍼셉트론\n",
        "# 0에 가까울때는 0,1에 가까울때는 1로 리턴\n",
        "def MLP(x, w, b):\n",
        "    y = np.sum(w * x) + b\n",
        "\n",
        "    if y <= 0:\n",
        "        return 0\n",
        "    else:\n",
        "        return 1"
      ],
      "metadata": {
        "id": "h8QlZfXtJv5E"
      },
      "execution_count": 48,
      "outputs": []
    },
    {
      "cell_type": "code",
      "source": [
        "# NAND 게이트\n",
        "def NAND(x1,x2): # 은닉층\n",
        "    return MLP(np.array([x1, x2]), w11, b1)\n",
        "\n",
        "# OR 게이트\n",
        "def OR(x1,x2):\n",
        "    return MLP(np.array([x1, x2]), w12, b2)\n",
        "\n",
        "# AND 게이트\n",
        "def AND(x1,x2): #은닉층\n",
        "    return MLP(np.array([x1, x2]), w2, b3)\n",
        "\n",
        "# XOR 게이트\n",
        "def XOR(x1,x2):\n",
        "    return AND(NAND(x1, x2),OR(x1,x2))"
      ],
      "metadata": {
        "id": "hruqACNnJ4YZ"
      },
      "execution_count": 49,
      "outputs": []
    },
    {
      "cell_type": "code",
      "source": [
        "# x1, x2 값을 번갈아 대입해 가며 최종 값 출력\n",
        "for x in [(0, 0), (1, 0), (0, 1), (1, 1)]:\n",
        "    y = XOR(x[0], x[1])\n",
        "    print(\"입력 값: \" + str(x) + \" 출력 값: \" + str(y))"
      ],
      "metadata": {
        "colab": {
          "base_uri": "https://localhost:8080/"
        },
        "id": "P6Z24XXTJ6I-",
        "outputId": "a4981d62-56b3-416b-b00a-eba53a70cc36"
      },
      "execution_count": 50,
      "outputs": [
        {
          "output_type": "stream",
          "name": "stdout",
          "text": [
            "입력 값: (0, 0) 출력 값: 0\n",
            "입력 값: (1, 0) 출력 값: 1\n",
            "입력 값: (0, 1) 출력 값: 1\n",
            "입력 값: (1, 1) 출력 값: 0\n"
          ]
        }
      ]
    },
    {
      "cell_type": "markdown",
      "source": [
        "# Multi Perceptron Class 생성을 통해 해결하기"
      ],
      "metadata": {
        "id": "PaqqWAsvJpII"
      }
    },
    {
      "cell_type": "code",
      "source": [
        "# XOR 문제를 해결하기 위한 다층 퍼셉트론\n",
        "class SimpleMLP:\n",
        "    def __init__(self):\n",
        "        # 수동으로 설정한 가중치와 바이어스 (은닉층)\n",
        "        self.weights_input_hidden = np.array([[-2, 2], [-2, 2]])  # x1, x2 -> n1, n2 계산을 위한 가중치 배열\n",
        "        # 은닉층의 편향값\n",
        "        self.bias_hidden = np.array([3, -1])  # x1, x2 -> n1, n2\n",
        "\n",
        "        # 출력층: 1개의 뉴런\n",
        "        self.weights_hidden_output = np.array([1, 1])  # n1, n2 -> y 가중치\n",
        "        self.bias_output = -1  # n1, n2 -> y 바이어스\n",
        "\n",
        "    def forward(self, X):\n",
        "        # 은닉층 계산\n",
        "        hidden_input = np.dot(X, self.weights_input_hidden) + self.bias_hidden\n",
        "        hidden_output = np.where(hidden_input <= 0, 0, 1)\n",
        "        print(f\"hidden_output : {hidden_input}\")\n",
        "\n",
        "        # 출력층 계산\n",
        "        final_input = np.dot(hidden_output, self.weights_hidden_output) + self.bias_output\n",
        "        final_output = np.where(final_input <= 0, 0, 1)\n",
        "        print(f\"final_output : {final_input}\")\n",
        "\n",
        "        return final_output"
      ],
      "metadata": {
        "id": "m57gn3nTaM9L"
      },
      "execution_count": 51,
      "outputs": []
    },
    {
      "cell_type": "code",
      "source": [
        "# XOR 데이터셋 정의\n",
        "XOR_X = np.array([[0, 0], [0, 1], [1, 0], [1, 1]])  # 입력값\n",
        "XOR_y = np.array([0, 1, 1, 0])  # XOR 출력값"
      ],
      "metadata": {
        "id": "5kAc9kaHaRwu"
      },
      "execution_count": 52,
      "outputs": []
    },
    {
      "cell_type": "code",
      "source": [
        "# 모델 초기화\n",
        "mlp = SimpleMLP()"
      ],
      "metadata": {
        "id": "uqNZS7fmaTwM"
      },
      "execution_count": 53,
      "outputs": []
    },
    {
      "cell_type": "code",
      "source": [
        "# 예측\n",
        "predictions = mlp.forward(XOR_X)\n",
        "# 결과 출력\n",
        "print(f\"XOR 문제 예측 결과: {predictions}\")"
      ],
      "metadata": {
        "colab": {
          "base_uri": "https://localhost:8080/"
        },
        "id": "emQQfaBebYJ7",
        "outputId": "acddcd4a-ea8d-4139-f6c7-67fb258ec8f9"
      },
      "execution_count": 54,
      "outputs": [
        {
          "output_type": "stream",
          "name": "stdout",
          "text": [
            "hidden_output : [[ 3 -1]\n",
            " [ 1  1]\n",
            " [ 1  1]\n",
            " [-1  3]]\n",
            "final_output : [0 1 1 0]\n",
            "XOR 문제 예측 결과: [0 1 1 0]\n"
          ]
        }
      ]
    },
    {
      "cell_type": "code",
      "source": [],
      "metadata": {
        "id": "1U2L8xjvXHE5"
      },
      "execution_count": 54,
      "outputs": []
    }
  ]
}